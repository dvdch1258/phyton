{
  "nbformat": 4,
  "nbformat_minor": 0,
  "metadata": {
    "colab": {
      "provenance": [],
      "authorship_tag": "ABX9TyM/HaFgYmWoXwxYF16NHiMR",
      "include_colab_link": true
    },
    "kernelspec": {
      "name": "python3",
      "display_name": "Python 3"
    },
    "language_info": {
      "name": "python"
    }
  },
  "cells": [
    {
      "cell_type": "markdown",
      "metadata": {
        "id": "view-in-github",
        "colab_type": "text"
      },
      "source": [
        "<a href=\"https://colab.research.google.com/github/dvdch1258/phyton/blob/main/Entrega_ejercicios_estructura_secuencial_(del_1_al_20).ipynb\" target=\"_parent\"><img src=\"https://colab.research.google.com/assets/colab-badge.svg\" alt=\"Open In Colab\"/></a>"
      ]
    },
    {
      "cell_type": "code",
      "source": [
        "\"\"\"\n",
        "Ejercicio 1: Escribir un programa que pregunte al usuario su nombre, y luego lo salude.\n",
        "\"\"\"\n",
        "nombre = input(\"¿Cuál es tu nombre? \")\n",
        "print(\"Hola \" + nombre)"
      ],
      "metadata": {
        "colab": {
          "base_uri": "https://localhost:8080/"
        },
        "id": "n3ERXeGi0Tmp",
        "outputId": "fd2941e3-2a3a-4c74-ced1-4928772f15b7"
      },
      "execution_count": null,
      "outputs": [
        {
          "output_type": "stream",
          "name": "stdout",
          "text": [
            "¿Cuál es tu nombre? David\n",
            "Hola David\n"
          ]
        }
      ]
    },
    {
      "cell_type": "code",
      "source": [
        "\"\"\"\n",
        "Ejercicio 2: Calcular el perímetro y área de un rectángulo dada su base y su altura.\n",
        "\"\"\"\n",
        "base = float(input(\"Introduce la base del triángulo: \"))\n",
        "altura = float(input(\"Introduce la altura del triángulo: \"))\n",
        "area = base*altura/2\n",
        "print(\"El área del triángulo es %f\" %area)"
      ],
      "metadata": {
        "colab": {
          "base_uri": "https://localhost:8080/"
        },
        "id": "T2EdUc2y0bTQ",
        "outputId": "4c7bfbdd-47bb-439d-8f8b-f3556c3323ae"
      },
      "execution_count": null,
      "outputs": [
        {
          "output_type": "stream",
          "name": "stdout",
          "text": [
            "Introduce la base del triángulo: 34\n",
            "Introduce la altura del triángulo: 56\n",
            "El área del triángulo es 952.000000\n"
          ]
        }
      ]
    },
    {
      "cell_type": "code",
      "source": [
        "\"\"\"\n",
        "Ejercicio 3: Dados los catetos de un triángulo rectángulo, calcular su hipotenusa.\n",
        "\"\"\"\n",
        "cateto_a = float(input(\"Introduce el valor del cateto a:\"))\n",
        "cateto_b = float(input(\"Introduce el valor del cateto b:\"))\n",
        "hipotenusa = (cateto_a**2+cateto_b**2)**0.5\n",
        "print(\"La hipotenusa del triángulo es %f\" %hipotenusa)"
      ],
      "metadata": {
        "colab": {
          "base_uri": "https://localhost:8080/"
        },
        "id": "-G6t2jtq2VDg",
        "outputId": "6f14c61c-950a-442b-cec7-38b553533d3f"
      },
      "execution_count": null,
      "outputs": [
        {
          "output_type": "stream",
          "name": "stdout",
          "text": [
            "Introduce el valor del cateto a:3.2\n",
            "Introduce el valor del cateto b:4.6\n",
            "La hipotenusa del triángulo es 5.603570\n"
          ]
        }
      ]
    },
    {
      "cell_type": "code",
      "source": [
        "\"\"\"\n",
        "Ejercicio 4: Dados dos números, mostrar la suma, resta, división y multiplicación de ambos\n",
        "\"\"\"\n",
        "num1 = float(input(\"Introduce el primer número: \"))\n",
        "num2 = float(input(\"Introduce el segundo número: \"))\n",
        "suma = num1 + num2\n",
        "resta =num1 - num2\n",
        "division = num1 / num2\n",
        "multiplicacion = num1 * num2\n",
        "print(\"La suma es %f\" %suma)\n",
        "print(\"La resta es %f\" %resta)\n",
        "print(\"La división es %f\" %division)\n",
        "print(\"La multiplicación es %f\" %multiplicacion)"
      ],
      "metadata": {
        "colab": {
          "base_uri": "https://localhost:8080/"
        },
        "id": "P3UDBKmn2oCs",
        "outputId": "abda5b55-2628-44ff-e0c2-4f7d0f0fd90e"
      },
      "execution_count": null,
      "outputs": [
        {
          "output_type": "stream",
          "name": "stdout",
          "text": [
            "Introduce el primer número: 3\n",
            "Introduce el segundo número: 2\n",
            "La suma es 5.000000\n",
            "La resta es 1.000000\n",
            "La división es 1.500000\n",
            "La multiplicación es 6.000000\n"
          ]
        }
      ]
    },
    {
      "cell_type": "code",
      "source": [
        "\"\"\"\n",
        "Ejercicio 5\n",
        "Escribir un programa que convierta un valor dado en grados Fahrenheit a grados Celsius. Recordar que la fórmula para la conversión es:\n",
        "\n",
        "C = (F-32)*5/9\n",
        "\"\"\"\n",
        "f = float(input(\"Introduce la temperatura en Fahrenheit:\"))\n",
        "c = (f-32)*5/9\n",
        "print(\"La temperatura en Celsius es %f\" %c)"
      ],
      "metadata": {
        "colab": {
          "base_uri": "https://localhost:8080/"
        },
        "id": "eD6FDwP131He",
        "outputId": "2184ae90-c67d-4bd4-f16a-94b7270a45aa"
      },
      "execution_count": null,
      "outputs": [
        {
          "output_type": "stream",
          "name": "stdout",
          "text": [
            "Introduce la temperatura en Fahrenheit:45\n",
            "La temperatura en Celsius es 7.222222\n"
          ]
        }
      ]
    },
    {
      "cell_type": "code",
      "source": [
        "num1 = float(input(\"Introduce el primer número: \"))\n",
        "num2 = float(input(\"Introduce el segundo número: \"))\n",
        "num3 = float(input(\"Introduce el tercer número:\"))\n",
        "media = (num1 + num2 + num3) / 3\n",
        "print(f\"La media de los tres números es: {media}\")"
      ],
      "metadata": {
        "colab": {
          "base_uri": "https://localhost:8080/"
        },
        "id": "gLBHRRZl4TMp",
        "outputId": "43d2f548-5418-4a80-a15d-9cb05588f7aa"
      },
      "execution_count": null,
      "outputs": [
        {
          "output_type": "stream",
          "name": "stdout",
          "text": [
            "Introduce el primer número: 4\n",
            "Introduce el segundo número: 6\n",
            "Introduce el tercer número:8\n",
            "La media de los tres números es: 6.0\n"
          ]
        }
      ]
    },
    {
      "cell_type": "code",
      "source": [
        "\"\"\"\n",
        "Ejercicio 7\n",
        "Realiza un programa que reciba una cantidad de minutos y muestre por pantalla a cuantas horas y minutos corresponde.\n",
        "Por ejemplo: 1000 minutos son 16 horas y 40 minutos.\n",
        "\"\"\"\n",
        "minutos = int(input(\"Introduce la cantidad de minutos: \"))\n",
        "horas = minutos // 60\n",
        "minutos_restantes = minutos % 60\n",
        "print(f\"{minutos} minutos son {horas} horas y {minutos_restantes} minutos\")"
      ],
      "metadata": {
        "colab": {
          "base_uri": "https://localhost:8080/"
        },
        "id": "KbKqnK4t5EfQ",
        "outputId": "004c4c6d-bbf6-4f33-e1fb-521850f99416"
      },
      "execution_count": null,
      "outputs": [
        {
          "output_type": "stream",
          "name": "stdout",
          "text": [
            "Introduce la cantidad de minutos: 456\n",
            "456 minutos son 7 horas y 36 minutos\n"
          ]
        }
      ]
    },
    {
      "cell_type": "code",
      "source": [
        "\"\"\"\n",
        "Ejercicio 8\n",
        "Un vendedor recibe un sueldo base mas un 10% extra por comisión de sus ventas, el vendedor desea saber cuanto dinero obtendrá por concepto de comisiones por las tres ventas que realiza en el mes y el total que recibirá en el mes tomando en cuenta su sueldo base y comisiones.\n",
        "\"\"\"\n",
        "sueldo_base = float(input(\"Introduce el sueldo base: \"))\n",
        "venta1 = float (input(\"Introduce el valor de la primera venta:\"))\n",
        "venta2 = float (input(\"Introduce el valor de la segunda venta:\"))\n",
        "venta3 = float (input(\"Introduce el valor de la tercera venta:\"))\n",
        "comision = (venta1 + venta2 + venta3) * 0.1\n",
        "sulto_neto = sueldo_base + comision\n",
        "print(f\"La comisión por las tres ventas es: {comision}\")\n",
        "print(f\"El sueldo neto es: {sulto_neto}\")"
      ],
      "metadata": {
        "colab": {
          "base_uri": "https://localhost:8080/"
        },
        "id": "ABBpJ-kr66rx",
        "outputId": "39844338-1f10-42d0-ae07-3cfdba9316d4"
      },
      "execution_count": null,
      "outputs": [
        {
          "output_type": "stream",
          "name": "stdout",
          "text": [
            "Introduce el sueldo base: 1450\n",
            "Introduce el valor de la primera venta:100\n",
            "Introduce el valor de la segunda venta:150\n",
            "Introduce el valor de la tercera venta:300\n",
            "La comisión por las tres ventas es: 55.0\n",
            "El sueldo neto es: 1505.0\n"
          ]
        }
      ]
    },
    {
      "cell_type": "code",
      "source": [
        "\"\"\"\n",
        "Ejercicio 9\n",
        "Una tienda ofrece un descuento del 15% sobre el total de la compra y un cliente desea saber cuanto deberá pagar finalmente por su compra.\n",
        "\"\"\"\n",
        "compra = float(input(\"Introduce el valor de la compra: \"))\n",
        "descuento = compra * 0.15\n",
        "precio_final = compra - descuento\n",
        "print(f\"El precio final de la compra es: {precio_final}\")\n"
      ],
      "metadata": {
        "colab": {
          "base_uri": "https://localhost:8080/"
        },
        "id": "Irow6-_J75kq",
        "outputId": "fd0b43c6-b070-4dd8-c780-2c84dd998d50"
      },
      "execution_count": null,
      "outputs": [
        {
          "output_type": "stream",
          "name": "stdout",
          "text": [
            "Introduce el valor de la compra: 56\n",
            "El precio final de la compra es: 47.6\n"
          ]
        }
      ]
    },
    {
      "cell_type": "code",
      "source": [
        "\"\"\"\n",
        "Ejercicio 10\n",
        "Un alumno desea saber cual será su calificación final en la materia de Algoritmos. Dicha calificación se compone de los siguientes porcentajes:\n",
        "\n",
        "55% del promedio de sus tres calificaciones parciales.\n",
        "30% de la calificación del examen final.\n",
        "15% de la calificación de un trabajo final.\n",
        "\"\"\"\n",
        "\n",
        "calificaciones_promedio = float(input(\"Introduce el promedio de las calificaciones parciales: \"))\n",
        "examen_final = float(input(\"Introduce la calificación del examen final: \"))\n",
        "trabajo_final = float(input(\"Introduce la calificación del trabajo final: \"))\n",
        "calificacion_final = (calificaciones_promedio * 0.55) + (examen_final * 0.3) + (trabajo_final * 0.15)\n",
        "print(f\"La calificacion final es {calificacion_final:.0f}\")"
      ],
      "metadata": {
        "colab": {
          "base_uri": "https://localhost:8080/"
        },
        "id": "PQ5u0ZAF8T_R",
        "outputId": "6996c4e2-1f3a-4ed4-a251-8282a35a3e5a"
      },
      "execution_count": null,
      "outputs": [
        {
          "output_type": "stream",
          "name": "stdout",
          "text": [
            "Introduce el promedio de las calificaciones parciales: 7\n",
            "Introduce la calificación del examen final: 7\n",
            "Introduce la calificación del trabajo final: 7\n",
            "La calificacion final es 7\n"
          ]
        }
      ]
    },
    {
      "cell_type": "code",
      "source": [
        "\"\"\"\n",
        "Ejercicio 11\n",
        "Pide al usuario dos números y muestra la “distancia” entre ellos (el valor absoluto de su diferencia, de modo que el resultado sea siempre positivo).\n",
        "\"\"\"\n",
        "num1 = float(input(\"Introduce el primer número: \"))\n",
        "num2 = float(input(\"Introduce el segundo número: \"))\n",
        "distancia = abs(num1 - num2)\n",
        "print(f\"La distancia entre los dos números es: {distancia}\")\n"
      ],
      "metadata": {
        "colab": {
          "base_uri": "https://localhost:8080/"
        },
        "id": "Zu3G2lR-_VyP",
        "outputId": "2c9328b7-86ea-49aa-85a9-aa3369b2e434"
      },
      "execution_count": null,
      "outputs": [
        {
          "output_type": "stream",
          "name": "stdout",
          "text": [
            "Introduce el primer número: 8\n",
            "Introduce el segundo número: 4\n",
            "La distancia entre los dos números es: 4.0\n"
          ]
        }
      ]
    },
    {
      "cell_type": "code",
      "source": [
        "\"\"\"\n",
        "Ejercicio 12\n",
        "Pide al usuario dos pares de números x1,y2 y x2,y2, que representen dos puntos en el plano. Calcula y muestra la distancia entre ellos.\n",
        "\"\"\"\n",
        "x1 = float(input(\"Introduce el valor de x1: \"))\n",
        "y1 = float(input(\"Introduce el valor de y2: \"))\n",
        "x2 = float(input(\"Introduce el valor de x2: \"))\n",
        "y2 = float(input(\"Introduce el valor de y2: \"))\n",
        "distancia = (((x2 - x1)** 0.2 + (y2 - y1)** 0.2)**0.5)\n",
        "print(f\"La distancia entre los dos puntos es: {distancia:.2f}\")"
      ],
      "metadata": {
        "colab": {
          "base_uri": "https://localhost:8080/"
        },
        "id": "UPxf_NoYAZQr",
        "outputId": "30b96ace-b89a-430c-d275-49a7c217cea9"
      },
      "execution_count": null,
      "outputs": [
        {
          "output_type": "stream",
          "name": "stdout",
          "text": [
            "Introduce el valor de x1: 12\n",
            "Introduce el valor de y2: 13\n",
            "Introduce el valor de x2: 14\n",
            "Introduce el valor de y2: 15\n",
            "La distancia entre los dos puntos es: 1.52\n"
          ]
        }
      ]
    },
    {
      "cell_type": "code",
      "source": [
        "\"\"\"\n",
        "Ejercicio 13\n",
        "Realizar un algoritmos que lea un número y que muestre su raíz cuadrada y su raíz cúbica. Python3 no tiene ninguna función predefinida que permita calcular la raíz cúbica, ¿Cómo se puede calcular?\n",
        "\"\"\"\n",
        "num = float(input(\"Introduce un número: \"))\n",
        "raiz_cuadrada = num ** 0.5\n",
        "raiz_cubica = num ** (1/3)\n",
        "print(f\"La raíz cuadrada de {num} es {raiz_cuadrada:.2f}\")\n",
        "print(f\"La raíz cúbica de {num} es {raiz_cubica:.2f}\")\n"
      ],
      "metadata": {
        "colab": {
          "base_uri": "https://localhost:8080/"
        },
        "id": "xYDOoDXaB-zn",
        "outputId": "a14510c4-2d81-4841-8a60-82bb00b0b92b"
      },
      "execution_count": null,
      "outputs": [
        {
          "output_type": "stream",
          "name": "stdout",
          "text": [
            "Introduce un número: 34\n",
            "La raíz cuadrada de 34.0 es 5.83\n",
            "La raíz cúbica de 34.0 es 3.24\n"
          ]
        }
      ]
    },
    {
      "cell_type": "code",
      "source": [
        "\"\"\"\n",
        "Ejercicio 14\n",
        "Dado un número de dos cifras, diseñe un algoritmo que permita obtener el número invertido. Ejemplo, si se introduce 23 que muestre 32.\n",
        "\"\"\"\n",
        "num = int(input(\"Introduce un número de dos cifras: \"))\n",
        "centena = num // 10\n",
        "unidad = num % 10\n",
        "num_invertido = unidad * 10 + centena\n",
        "print(f\"El número invertido es: {num_invertido}\")"
      ],
      "metadata": {
        "colab": {
          "base_uri": "https://localhost:8080/"
        },
        "id": "46gCV3XQCSK6",
        "outputId": "e2fba432-370a-4c25-eb9b-ac81e314769e"
      },
      "execution_count": null,
      "outputs": [
        {
          "output_type": "stream",
          "name": "stdout",
          "text": [
            "Introduce un número de dos cifras: 24\n",
            "El número invertido es: 42\n"
          ]
        }
      ]
    },
    {
      "cell_type": "code",
      "source": [
        "\"\"\"\n",
        "Dadas dos variables numéricas A y B, que el usuario debe teclear, se pide realizar un algoritmo que intercambie los valores de ambas variables y muestre cuanto valen al final las dos variables.\n",
        "\"\"\"\n",
        "A = int(input(\"Introduce el valor de A: \"))\n",
        "B = int(input(\"Introduce el valor de B: \"))\n",
        "A, B = B, A\n",
        "print(f\"El valor de A es: {A}\")\n",
        "print(f\"El valor de B es: {B}\")"
      ],
      "metadata": {
        "colab": {
          "base_uri": "https://localhost:8080/"
        },
        "id": "TUAo4GpTDdZf",
        "outputId": "c1f98efb-7681-421f-aac3-6fc5b6f63873"
      },
      "execution_count": null,
      "outputs": [
        {
          "output_type": "stream",
          "name": "stdout",
          "text": [
            "Introduce el valor de A: 3\n",
            "Introduce el valor de B: 2\n",
            "El valor de A es: 2\n",
            "El valor de B es: 3\n"
          ]
        }
      ]
    },
    {
      "cell_type": "code",
      "source": [
        "\"\"\"\n",
        "Ejercicio 16\n",
        "Dos vehículos viajan a diferentes velocidades (v1 y v2) y están distanciados por una distancia d. El que está detrás viaja a una velocidad mayor. Se pide hacer un algoritmo para ingresar la distancia entre los dos vehículos (km) y sus respectivas velocidades (km/h) y con esto determinar y mostrar en que tiempo (minutos) alcanzará el vehículo más rápido al otro.\n",
        "\"\"\"\n",
        "v1 = float(input(\"Introduce la velocidad del primer vehículo (km/h): \"))\n",
        "v2 = float(input(\"Introduce la velocidad del segundo vehículo (km/h): \"))\n",
        "d = float(input(\"Introduce la distancia entre los dos vehículos (km): \"))\n",
        "t = d / (v1 + v2)\n",
        "tiempo_minutos = t * 60\n",
        "print(f\"Los vehículos se encontrarán en: {tiempo_minutos:.2f} minutos.\")"
      ],
      "metadata": {
        "colab": {
          "base_uri": "https://localhost:8080/"
        },
        "id": "yHQ8A5gdDxb5",
        "outputId": "f17d3649-874b-4a12-fc4f-d0302ec39207"
      },
      "execution_count": null,
      "outputs": [
        {
          "output_type": "stream",
          "name": "stdout",
          "text": [
            "Introduce la velocidad del primer vehículo (km/h): 150\n",
            "Introduce la velocidad del segundo vehículo (km/h): 120\n",
            "Introduce la distancia entre los dos vehículos (km): 50\n",
            "Los vehículos se encontrarán en: 11.11 minutos.\n"
          ]
        }
      ]
    },
    {
      "cell_type": "code",
      "source": [
        "\"\"\"\n",
        "Ejercicio 17\n",
        "Un ciclista parte de una ciudad A a las HH horas, MM minutos y SS segundos. El tiempo de viaje hasta llegar a otra ciudad B es de T segundos. Escribir un algoritmo que determine la hora de llegada a la ciudad B.\n",
        "\"\"\"\n",
        "hh = int(input(\"Introduce la hora de salida (HH): \"))\n",
        "mm = int(input(\"Introduce los minutos de salida (MM): \"))\n",
        "ss = int(input(\"Introduce los segundos de salida (SS): \"))\n",
        "t = int(input(\"Introduce el tiempo de viaje (T) en segundos: \"))\n",
        "total_segundos = hh * 3600 + mm * 60 + ss + t\n",
        "hora_llegada = total_segundos // 3600 % 24\n",
        "minuto_llegada = (total_segundos % 3600) // 60\n",
        "segundo_llegada = total_segundos % 60\n",
        "print(f\"La hora de llegada es {hora_llegada:02d}:{minuto_llegada:02d}:{segundo_llegada:02d}\")\n"
      ],
      "metadata": {
        "colab": {
          "base_uri": "https://localhost:8080/"
        },
        "id": "fFOgnAc5FY-3",
        "outputId": "b8790f67-3a4e-4231-8075-9ef2ea67f7be"
      },
      "execution_count": null,
      "outputs": [
        {
          "output_type": "stream",
          "name": "stdout",
          "text": [
            "Introduce la hora de salida (HH): 19\n",
            "Introduce los minutos de salida (MM): 45\n",
            "Introduce los segundos de salida (SS): 12\n",
            "Introduce el tiempo de viaje (T) en segundos: 14567\n",
            "La hora de llegada es 23:47:59\n"
          ]
        }
      ]
    },
    {
      "cell_type": "code",
      "source": [
        "\"\"\"\n",
        "Ejercicio 18\n",
        "Pedir el nombre y los dos apellidos de una persona y mostrar las iniciales.\n",
        "\"\"\"\n",
        "nombre = input(\"Introduce tu nombre: \")\n",
        "apellido_1 = input(\"Introduce tu primer apellido: \")\n",
        "apellido_2 = input(\"Introduce tu segundo apellido: \")\n",
        "iniciales = nombre[0].upper() + apellido_1[0].upper() + apellido_2[0].upper()\n",
        "print(f\"Las iniciales son: {iniciales}\")"
      ],
      "metadata": {
        "colab": {
          "base_uri": "https://localhost:8080/"
        },
        "id": "ANwsiv57GvOi",
        "outputId": "bcfa5426-51d0-4394-c3bc-424a7621074c"
      },
      "execution_count": null,
      "outputs": [
        {
          "output_type": "stream",
          "name": "stdout",
          "text": [
            "Introduce tu nombre: David\n",
            "Introduce tu primer apellido: caceres\n",
            "Introduce tu segundo apellido: hernandez\n",
            "Las iniciales son: DCH\n"
          ]
        }
      ]
    },
    {
      "cell_type": "code",
      "source": [
        "\"\"\"\n",
        "Ejercicio 19\n",
        "Escribir un algoritmo para calcular la nota final de un estudiante, considerando que: por cada respuesta correcta 5 puntos, por una incorrecta -1 y por respuestas en blanco 0. Imprime el resultado obtenido por el estudiante.\n",
        "\"\"\"\n",
        "respuestas_correctas = int(input(\"Introduce el número de respuestas correctas: \"))\n",
        "respuestas_incorrectas = int(input(\"Introduce el número de respuestas incorrectas: \"))\n",
        "respuestas_en_blanco = int(input(\"Introduce el número de respuestas en blanco: \"))\n",
        "nota_final = (respuestas_correctas * 5) + (respuestas_incorrectas * -1) + (respuestas_en_blanco * 0)\n",
        "print(f\"La nota final del estudiante es: {nota_final}\")"
      ],
      "metadata": {
        "colab": {
          "base_uri": "https://localhost:8080/"
        },
        "id": "H3fT9oWQH1_v",
        "outputId": "0623783e-6669-477b-d925-f67d4ccbd3ac"
      },
      "execution_count": null,
      "outputs": [
        {
          "output_type": "stream",
          "name": "stdout",
          "text": [
            "Introduce el número de respuestas correctas: 15\n",
            "Introduce el número de respuestas incorrectas: 3\n",
            "Introduce el número de respuestas en blanco: 2\n",
            "La nota final del estudiante es: 72\n"
          ]
        }
      ]
    },
    {
      "cell_type": "code",
      "source": [
        "\"\"\"\n",
        "Ejercicio 20\n",
        "Diseñar un algoritmo que nos diga el dinero que tenemos (en euros y céntimos) después de pedirnos cuantas monedas tenemos (de 2€, 1€, 50 céntimos, 20 céntimos o 10 céntimos).\n",
        "\"\"\"\n",
        "monedas_2e = int(input(\"Introduce el número de monedas de 2 euros: \"))\n",
        "monedas_1e = int(input(\"Introduce el número de monedas de 1 euro: \"))\n",
        "monedas_50c = int(input(\"Introduce el número de monedas de 50 céntimos: \"))\n",
        "monedas_20c = int(input(\"Introduce el número de monedas de 20 céntimos: \"))\n",
        "monedas_10c = int(input(\"Introduce el número de monedas de 10 céntimos: \"))\n",
        "dinero_total = (monedas_2e * 2) + (monedas_1e * 1) + (monedas_50c * 0.5) + (monedas_20c* 0.2) + (monedas_10c * 0.1)\n",
        "euros = int(dinero_total)\n",
        "centimos = int((dinero_total - euros) * 100)\n",
        "print(f\"El dinero total que tenemos es: {dinero_total:.2f} euros\")\n"
      ],
      "metadata": {
        "colab": {
          "base_uri": "https://localhost:8080/"
        },
        "id": "NSnb4WYSISTe",
        "outputId": "d5d4e234-3c79-473c-fa29-cd047314599c"
      },
      "execution_count": null,
      "outputs": [
        {
          "output_type": "stream",
          "name": "stdout",
          "text": [
            "Introduce el número de monedas de 2 euros: 1\n",
            "Introduce el número de monedas de 1 euro: 1\n",
            "Introduce el número de monedas de 50 céntimos: 1\n",
            "Introduce el número de monedas de 20 céntimos: 1\n",
            "Introduce el número de monedas de 10 céntimos: 1\n",
            "El dinero total que tenemos es: 3.80 euros\n"
          ]
        }
      ]
    },
    {
      "cell_type": "code",
      "source": [],
      "metadata": {
        "id": "4T1-KRyNJvxx"
      },
      "execution_count": null,
      "outputs": []
    }
  ]
}