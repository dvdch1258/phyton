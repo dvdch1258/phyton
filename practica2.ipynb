{
  "nbformat": 4,
  "nbformat_minor": 0,
  "metadata": {
    "colab": {
      "provenance": []
    },
    "kernelspec": {
      "name": "python3",
      "display_name": "Python 3"
    },
    "language_info": {
      "name": "python"
    }
  },
  "cells": [
    {
      "cell_type": "code",
      "source": [
        "\"\"\"\n",
        "lectura de variable por teclado\n",
        "y conversion a tipo numerico para operar\n",
        "\n",
        "\"\"\"\n",
        "num = input(\"Dame un numero \")\n",
        "print(\"Tu numero es\", num)\n",
        "print(\"Tu numero multiplicado por 5 es\", num*5)\n",
        "\"\"\"\n",
        "lo convertimos a entero\n",
        "\"\"\"\n",
        "num = int(num)\n",
        "print(\"Tu numero multiplicado por 5 es\", num*5)"
      ],
      "metadata": {
        "colab": {
          "base_uri": "https://localhost:8080/"
        },
        "id": "QTK_YPgIPRWb",
        "outputId": "a96e8857-f67b-4d82-8d28-37232d51c771"
      },
      "execution_count": 8,
      "outputs": [
        {
          "output_type": "stream",
          "name": "stdout",
          "text": [
            "Dame un numero 25\n",
            "Tu numero es 25\n",
            "Tu numero multiplicado por 5 es 2525252525\n",
            "Tu numero multiplicado por 5 es 125\n"
          ]
        }
      ]
    },
    {
      "cell_type": "code",
      "source": [
        "type (num)"
      ],
      "metadata": {
        "colab": {
          "base_uri": "https://localhost:8080/"
        },
        "id": "XFEC_hSaPiKa",
        "outputId": "d660fdef-9901-4096-9c60-b60a2081ecc0"
      },
      "execution_count": 9,
      "outputs": [
        {
          "output_type": "execute_result",
          "data": {
            "text/plain": [
              "int"
            ]
          },
          "metadata": {},
          "execution_count": 9
        }
      ]
    },
    {
      "cell_type": "code",
      "source": [
        "print (num)"
      ],
      "metadata": {
        "colab": {
          "base_uri": "https://localhost:8080/"
        },
        "id": "8tWLVt1rREKy",
        "outputId": "58814715-068b-46dd-fd0f-a7ad8e5456ba"
      },
      "execution_count": 10,
      "outputs": [
        {
          "output_type": "stream",
          "name": "stdout",
          "text": [
            "25\n"
          ]
        }
      ]
    },
    {
      "cell_type": "code",
      "source": [
        "num = 25//4\n",
        "print(num)\n",
        "type(num)"
      ],
      "metadata": {
        "colab": {
          "base_uri": "https://localhost:8080/"
        },
        "id": "EYgC3iJYRJYp",
        "outputId": "3513a41f-e484-4d8d-fbe6-eee5fc99594b"
      },
      "execution_count": 19,
      "outputs": [
        {
          "output_type": "stream",
          "name": "stdout",
          "text": [
            "6\n"
          ]
        },
        {
          "output_type": "execute_result",
          "data": {
            "text/plain": [
              "int"
            ]
          },
          "metadata": {},
          "execution_count": 19
        }
      ]
    },
    {
      "cell_type": "code",
      "source": [
        "num = 25/4\n",
        "print(num)"
      ],
      "metadata": {
        "colab": {
          "base_uri": "https://localhost:8080/"
        },
        "id": "uo0EkwopR-hz",
        "outputId": "c3b76881-787f-4303-ad34-b790074be563"
      },
      "execution_count": 20,
      "outputs": [
        {
          "output_type": "stream",
          "name": "stdout",
          "text": [
            "6.25\n"
          ]
        }
      ]
    },
    {
      "cell_type": "code",
      "source": [
        "num= 25%3\n",
        "print(num)"
      ],
      "metadata": {
        "colab": {
          "base_uri": "https://localhost:8080/"
        },
        "id": "-FyFE5icSMsB",
        "outputId": "66e2a697-42c7-4f04-b58f-471a0ebd4a57"
      },
      "execution_count": 22,
      "outputs": [
        {
          "output_type": "stream",
          "name": "stdout",
          "text": [
            "1\n"
          ]
        }
      ]
    },
    {
      "cell_type": "code",
      "source": [
        "nombre = \"David\"\n",
        "print(nombre)\n",
        "type(nombre)\n"
      ],
      "metadata": {
        "colab": {
          "base_uri": "https://localhost:8080/"
        },
        "id": "z0CLuxQgSW-R",
        "outputId": "bd451445-c779-48f0-e7c4-2c43ee1ddb10"
      },
      "execution_count": 23,
      "outputs": [
        {
          "output_type": "stream",
          "name": "stdout",
          "text": [
            "David\n"
          ]
        },
        {
          "output_type": "execute_result",
          "data": {
            "text/plain": [
              "str"
            ]
          },
          "metadata": {},
          "execution_count": 23
        }
      ]
    },
    {
      "cell_type": "code",
      "source": [
        "num = int(input(\"Dame un numero:\"))\n",
        "mayor = (10>num)\n",
        "print(mayor)\n",
        "type(mayor)"
      ],
      "metadata": {
        "colab": {
          "base_uri": "https://localhost:8080/"
        },
        "id": "t9YEDw8aSkAx",
        "outputId": "48a25cfe-dc5c-46ae-a1b1-c27b8dac6c41"
      },
      "execution_count": 24,
      "outputs": [
        {
          "output_type": "stream",
          "name": "stdout",
          "text": [
            "Dame un numero:5\n",
            "True\n"
          ]
        },
        {
          "output_type": "execute_result",
          "data": {
            "text/plain": [
              "bool"
            ]
          },
          "metadata": {},
          "execution_count": 24
        }
      ]
    },
    {
      "cell_type": "code",
      "source": [
        "num = int(input(\"Dame un numero:\"))\n",
        "mayor = (10>num)\n",
        "print(mayor)\n",
        "type(mayor)"
      ],
      "metadata": {
        "colab": {
          "base_uri": "https://localhost:8080/"
        },
        "id": "El2tJNPlS8Fx",
        "outputId": "75949c1d-d684-439f-8640-a3fa88aee10f"
      },
      "execution_count": 25,
      "outputs": [
        {
          "output_type": "stream",
          "name": "stdout",
          "text": [
            "Dame un numero:14\n",
            "False\n"
          ]
        },
        {
          "output_type": "execute_result",
          "data": {
            "text/plain": [
              "bool"
            ]
          },
          "metadata": {},
          "execution_count": 25
        }
      ]
    },
    {
      "cell_type": "code",
      "source": [
        "if (num == 5):\n",
        "  print (\"tu numero es 5\")\n",
        "else:\n",
        "  print (\"tu numerto es diferente de 5\")"
      ],
      "metadata": {
        "colab": {
          "base_uri": "https://localhost:8080/"
        },
        "id": "-7_y9mWfTAKY",
        "outputId": "742c7e67-de57-4382-e45c-9a511a5d237d"
      },
      "execution_count": 31,
      "outputs": [
        {
          "output_type": "stream",
          "name": "stdout",
          "text": [
            "tu numerto es diferente de 5\n"
          ]
        }
      ]
    },
    {
      "cell_type": "code",
      "source": [
        "if (num != 5):\n",
        "  print (\"tu numero es diferente de 5\")\n",
        "else:\n",
        "  print (\"tu numero es 5\")"
      ],
      "metadata": {
        "colab": {
          "base_uri": "https://localhost:8080/"
        },
        "id": "G1YF46rmTrMp",
        "outputId": "a6ede420-448a-415a-b77e-6455bf48dfd8"
      },
      "execution_count": 35,
      "outputs": [
        {
          "output_type": "stream",
          "name": "stdout",
          "text": [
            "tu numero es diferente de 5\n"
          ]
        }
      ]
    },
    {
      "cell_type": "code",
      "source": [
        "num = int(input(\"Dame un numero:\"))\n",
        "if (num >=10 and num <=15):\n",
        "  print (\"Numero entre 10 y 15\")\n",
        "elif (num >15):\n",
        "  print (\"Numero mayor a 15\")\n",
        "else:\n",
        "  print (\"Numero menor a 10\")"
      ],
      "metadata": {
        "colab": {
          "base_uri": "https://localhost:8080/"
        },
        "id": "D-2ytGfaUUjo",
        "outputId": "ec760b25-97c4-4228-8d00-a3647f649b40"
      },
      "execution_count": 39,
      "outputs": [
        {
          "output_type": "stream",
          "name": "stdout",
          "text": [
            "Dame un numero:18\n",
            "Numero mayor a 15\n"
          ]
        }
      ]
    },
    {
      "cell_type": "code",
      "source": [
        "num = int(input(\"Dame un numero:\"))\n",
        "if (num >=10 and num <=15):\n",
        "  print (\"Numero entre 10 y 15\")\n",
        "elif (num >15):\n",
        "  print (\"Numero mayor a 15\")\n",
        "else:\n",
        "  print (\"Numero menor a 10\")"
      ],
      "metadata": {
        "colab": {
          "base_uri": "https://localhost:8080/"
        },
        "id": "vkbSBx7jVeEF",
        "outputId": "239d56f4-9851-4d8e-c9fe-1c913d4a3bd3"
      },
      "execution_count": 40,
      "outputs": [
        {
          "output_type": "stream",
          "name": "stdout",
          "text": [
            "Dame un numero:14\n",
            "Numero entre 10 y 15\n"
          ]
        }
      ]
    },
    {
      "cell_type": "code",
      "source": [
        "num = int(input(\"Dame un numero:\"))\n",
        "if (num >=10 and num <=15):\n",
        "  print (\"Numero entre 10 y 15\")\n",
        "elif (num >15):\n",
        "  print (\"Numero mayor a 15\")\n",
        "else:\n",
        "  print (\"Numero menor a 10\")"
      ],
      "metadata": {
        "colab": {
          "base_uri": "https://localhost:8080/"
        },
        "id": "QRmyoHskVh_8",
        "outputId": "00ee6807-edc4-4404-b8d1-52fd486e9d26"
      },
      "execution_count": 41,
      "outputs": [
        {
          "output_type": "stream",
          "name": "stdout",
          "text": [
            "Dame un numero:9\n",
            "Numero menor a 10\n"
          ]
        }
      ]
    },
    {
      "cell_type": "code",
      "source": [
        "lista = range (6)\n",
        "for i in lista:\n",
        "  print(i)"
      ],
      "metadata": {
        "colab": {
          "base_uri": "https://localhost:8080/"
        },
        "id": "Llz1YAVSVpqb",
        "outputId": "30200004-4ac6-4cb0-c382-7f4418e6866e"
      },
      "execution_count": 43,
      "outputs": [
        {
          "output_type": "stream",
          "name": "stdout",
          "text": [
            "0\n",
            "1\n",
            "2\n",
            "3\n",
            "4\n",
            "5\n"
          ]
        }
      ]
    },
    {
      "cell_type": "code",
      "source": [
        "lista = range (3, 14)\n",
        "print(list(lista))"
      ],
      "metadata": {
        "colab": {
          "base_uri": "https://localhost:8080/"
        },
        "id": "UKy_rDCtXb3v",
        "outputId": "794cc6ed-b965-4739-bd73-beb03d37c311"
      },
      "execution_count": 56,
      "outputs": [
        {
          "output_type": "stream",
          "name": "stdout",
          "text": [
            "[3, 4, 5, 6, 7, 8, 9, 10, 11, 12, 13]\n"
          ]
        }
      ]
    },
    {
      "cell_type": "code",
      "source": [
        "lista = range (3,6)\n",
        "print(list(lista))\n",
        "print(\"la lista tiene\", len(lista), \"elementos\")"
      ],
      "metadata": {
        "colab": {
          "base_uri": "https://localhost:8080/"
        },
        "id": "htP0oQr_VyNq",
        "outputId": "e000942f-607b-4e99-8d90-52d9dcb5e353"
      },
      "execution_count": 44,
      "outputs": [
        {
          "output_type": "stream",
          "name": "stdout",
          "text": [
            "[3, 4, 5]\n",
            "la lista tiene 3 elementos\n"
          ]
        }
      ]
    },
    {
      "cell_type": "code",
      "source": [
        "lista=range(3,20,2)\n",
        "list(lista)"
      ],
      "metadata": {
        "colab": {
          "base_uri": "https://localhost:8080/"
        },
        "id": "hnoGidGpWAFh",
        "outputId": "ef42777f-cfd6-4ce1-f47e-3fef44fa0bed"
      },
      "execution_count": 45,
      "outputs": [
        {
          "output_type": "execute_result",
          "data": {
            "text/plain": [
              "[3, 5, 7, 9, 11, 13, 15, 17, 19]"
            ]
          },
          "metadata": {},
          "execution_count": 45
        }
      ]
    },
    {
      "cell_type": "code",
      "source": [
        "nombre = \"David\"\n",
        "n_mayus=nombre.upper()\n",
        "print(n_mayus)\n",
        "print(nombre[2])\n",
        "len(nombre)"
      ],
      "metadata": {
        "colab": {
          "base_uri": "https://localhost:8080/"
        },
        "id": "pc-H3Yn-WHx3",
        "outputId": "eb888ff5-d6ee-41c7-da42-d214c09a3f03"
      },
      "execution_count": 46,
      "outputs": [
        {
          "output_type": "stream",
          "name": "stdout",
          "text": [
            "DAVID\n",
            "v\n"
          ]
        },
        {
          "output_type": "execute_result",
          "data": {
            "text/plain": [
              "5"
            ]
          },
          "metadata": {},
          "execution_count": 46
        }
      ]
    },
    {
      "cell_type": "code",
      "source": [
        "nombres = ([\"David\", \"Hector\", \"Marcos\", \"Kevin\"])\n",
        "print(nombres[2])\n",
        "print(type(nombres))\n",
        "del nombres[2]\n",
        "print(nombres)\n",
        "nombres.insert(3,\"Jose\")\n",
        "print(nombres)\n",
        "print(\"Para ver la posicion donde se encuentra un valor usamos index, Hector se encentra en la posicion:\",nombres.index(\"Hector\"))\n",
        "print(nombres)\n",
        "print(\"Para ver los elemnetos de la poscion 1 a la 2, pongo un 3 al final!\", nombres[1:3])\n",
        "nombres.append(\"Kevin\")\n",
        "print(nombres)\n",
        "print(\"Para ver los elementos de 2 en 2:\",nombres[::2])\n",
        "print(\"para ver los elementos en orden invertido uso -1:\",nombres[::-1])\n",
        "#para listar una a uno los elemtos de la lista\n",
        "for i in nombres:\n",
        "  print(i)"
      ],
      "metadata": {
        "colab": {
          "base_uri": "https://localhost:8080/"
        },
        "id": "zKWR7HwZWyY3",
        "outputId": "22234ff9-aca5-4f1a-aa5c-1cb7cc80e100"
      },
      "execution_count": 58,
      "outputs": [
        {
          "output_type": "stream",
          "name": "stdout",
          "text": [
            "Marcos\n",
            "<class 'list'>\n",
            "['David', 'Hector', 'Kevin']\n",
            "['David', 'Hector', 'Kevin', 'Jose']\n",
            "Para ver la posicion donde se encuentra un valor usamos index, Hector se encentra en la posicion: 1\n",
            "['David', 'Hector', 'Kevin', 'Jose']\n",
            "Para ver los elemnetos de la poscion 1 a la 2, pongo un 3 al final! ['Hector', 'Kevin']\n",
            "['David', 'Hector', 'Kevin', 'Jose', 'Kevin']\n",
            "Para ver los elementos de 2 en 2: ['David', 'Kevin', 'Kevin']\n",
            "para ver los elementos en orden invertido uso -1: ['Kevin', 'Jose', 'Kevin', 'Hector', 'David']\n",
            "David\n",
            "Hector\n",
            "Kevin\n",
            "Jose\n",
            "Kevin\n"
          ]
        }
      ]
    },
    {
      "cell_type": "code",
      "source": [],
      "metadata": {
        "id": "oKXLOd9aXx0W"
      },
      "execution_count": null,
      "outputs": []
    }
  ]
}